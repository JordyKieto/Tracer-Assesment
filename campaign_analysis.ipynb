{
 "cells": [
  {
   "cell_type": "code",
   "execution_count": 15,
   "metadata": {},
   "outputs": [],
   "source": [
    "import pandas as pd\n",
    "import ast\n",
    "import pdb"
   ]
  },
  {
   "cell_type": "code",
   "execution_count": 16,
   "metadata": {},
   "outputs": [],
   "source": [
    "df1 = pd.read_csv('source1.csv')\n",
    "df2 = pd.read_csv('source2.csv')"
   ]
  },
  {
   "cell_type": "markdown",
   "metadata": {},
   "source": [
    "## How many campaigns spent on more than 4 days?\n",
    "#### Answer: 3289"
   ]
  },
  {
   "cell_type": "code",
   "execution_count": 17,
   "metadata": {},
   "outputs": [],
   "source": [
    "spent_rows = df2[df2['spend'] != 0]"
   ]
  },
  {
   "cell_type": "code",
   "execution_count": 18,
   "metadata": {},
   "outputs": [],
   "source": [
    "campaigns_by_id = list(spent_rows.groupby('campaign_id').apply(lambda x: x['date'].unique()))"
   ]
  },
  {
   "cell_type": "code",
   "execution_count": 19,
   "metadata": {},
   "outputs": [],
   "source": [
    "five_plus_day_campaigns = list(filter(lambda x: len(x) > 4, campaigns_by_id))"
   ]
  },
  {
   "cell_type": "code",
   "execution_count": 20,
   "metadata": {},
   "outputs": [
    {
     "data": {
      "text/plain": [
       "3289"
      ]
     },
     "execution_count": 20,
     "metadata": {},
     "output_type": "execute_result"
    }
   ],
   "source": [
    "len(five_plus_day_campaigns)"
   ]
  },
  {
   "cell_type": "markdown",
   "metadata": {},
   "source": [
    "## Which sources reported more \"junk\" than \"noise\"?\n",
    "### Answer: ['C', 'J', 'H']"
   ]
  },
  {
   "cell_type": "code",
   "execution_count": 21,
   "metadata": {},
   "outputs": [],
   "source": [
    "def parse_source(row):\n",
    "    global sources\n",
    "    actions = ast.literal_eval(row['actions'])\n",
    "    for actn in actions:\n",
    "        current = actn[\"action\"]\n",
    "        if current in ('junk', 'noise'):\n",
    "            for key in actn.keys():\n",
    "                if not key == 'action':\n",
    "                    if not key in sources:\n",
    "                        sources[key] = {'junk': 0, 'noise': 0}\n",
    "                    sources[key][current] += int(actn[key])"
   ]
  },
  {
   "cell_type": "code",
   "execution_count": 22,
   "metadata": {},
   "outputs": [
    {
     "data": {
      "text/plain": [
       "0         None\n",
       "1         None\n",
       "2         None\n",
       "3         None\n",
       "4         None\n",
       "5         None\n",
       "6         None\n",
       "7         None\n",
       "8         None\n",
       "9         None\n",
       "10        None\n",
       "11        None\n",
       "12        None\n",
       "13        None\n",
       "14        None\n",
       "15        None\n",
       "16        None\n",
       "17        None\n",
       "18        None\n",
       "19        None\n",
       "20        None\n",
       "21        None\n",
       "22        None\n",
       "23        None\n",
       "24        None\n",
       "25        None\n",
       "26        None\n",
       "27        None\n",
       "28        None\n",
       "29        None\n",
       "          ... \n",
       "251131    None\n",
       "251132    None\n",
       "251133    None\n",
       "251134    None\n",
       "251135    None\n",
       "251136    None\n",
       "251137    None\n",
       "251138    None\n",
       "251139    None\n",
       "251140    None\n",
       "251141    None\n",
       "251142    None\n",
       "251143    None\n",
       "251144    None\n",
       "251145    None\n",
       "251146    None\n",
       "251147    None\n",
       "251148    None\n",
       "251149    None\n",
       "251150    None\n",
       "251151    None\n",
       "251152    None\n",
       "251153    None\n",
       "251154    None\n",
       "251155    None\n",
       "251156    None\n",
       "251157    None\n",
       "251158    None\n",
       "251159    None\n",
       "251160    None\n",
       "Length: 251161, dtype: object"
      ]
     },
     "execution_count": 22,
     "metadata": {},
     "output_type": "execute_result"
    }
   ],
   "source": [
    "sources = {}\n",
    "df2.apply(parse_source, axis=1)"
   ]
  },
  {
   "cell_type": "code",
   "execution_count": 23,
   "metadata": {},
   "outputs": [
    {
     "data": {
      "text/plain": [
       "{'F': {'junk': 1223926, 'noise': 1233915},\n",
       " 'G': {'junk': 1230358, 'noise': 1244322},\n",
       " 'E': {'junk': 1236050, 'noise': 1244240},\n",
       " 'C': {'junk': 1243788, 'noise': 1231769},\n",
       " 'J': {'junk': 1246437, 'noise': 1222855},\n",
       " 'A': {'junk': 1229656, 'noise': 1237764},\n",
       " 'D': {'junk': 1226024, 'noise': 1240969},\n",
       " 'H': {'junk': 1258292, 'noise': 1237056},\n",
       " 'B': {'junk': 1228686, 'noise': 1248677},\n",
       " 'K': {'junk': 1224957, 'noise': 1227276}}"
      ]
     },
     "execution_count": 23,
     "metadata": {},
     "output_type": "execute_result"
    }
   ],
   "source": [
    "sources"
   ]
  },
  {
   "cell_type": "code",
   "execution_count": 24,
   "metadata": {},
   "outputs": [],
   "source": [
    "sources_w_more_noise = []\n",
    "\n",
    "for s in sources.keys():\n",
    "    if sources[s]['junk'] > sources[s]['noise']:\n",
    "        sources_w_more_noise += [s]  "
   ]
  },
  {
   "cell_type": "code",
   "execution_count": 25,
   "metadata": {},
   "outputs": [
    {
     "data": {
      "text/plain": [
       "['C', 'J', 'H']"
      ]
     },
     "execution_count": 25,
     "metadata": {},
     "output_type": "execute_result"
    }
   ],
   "source": [
    "sources_w_more_noise"
   ]
  },
  {
   "cell_type": "markdown",
   "metadata": {},
   "source": [
    "## How many source B conversions were there for campaigns targeting NY\n",
    "### Answer: 110775"
   ]
  },
  {
   "cell_type": "code",
   "execution_count": 26,
   "metadata": {},
   "outputs": [],
   "source": [
    "ny_campaigns = list(df1.loc[df1['audience'].str.contains('NY')]['campaign_id'])"
   ]
  },
  {
   "cell_type": "code",
   "execution_count": 27,
   "metadata": {},
   "outputs": [],
   "source": [
    "source_b_ny_count = 0\n",
    "for campaign in ny_campaigns:\n",
    "    current = df2.loc[df2['campaign_id'] == campaign]\n",
    "    for row in current['actions']:\n",
    "        row = ast.literal_eval(row)\n",
    "        for item in row:\n",
    "            if 'B' in item:\n",
    "                source_b_ny_count += item['B']"
   ]
  },
  {
   "cell_type": "code",
   "execution_count": 28,
   "metadata": {},
   "outputs": [
    {
     "data": {
      "text/plain": [
       "110775"
      ]
     },
     "execution_count": 28,
     "metadata": {},
     "output_type": "execute_result"
    }
   ],
   "source": [
    "source_b_ny_count"
   ]
  },
  {
   "cell_type": "markdown",
   "metadata": {},
   "source": [
    "## What was the total cost per view for all ads of type video, truncated to two decimals?\n",
    "### Answer: $10.12"
   ]
  },
  {
   "cell_type": "code",
   "execution_count": 29,
   "metadata": {},
   "outputs": [],
   "source": [
    "video_ads = spent_rows.loc[spent_rows['ad_type'] == 'video']"
   ]
  },
  {
   "cell_type": "code",
   "execution_count": 30,
   "metadata": {},
   "outputs": [],
   "source": [
    "video_total_views = 0"
   ]
  },
  {
   "cell_type": "code",
   "execution_count": 31,
   "metadata": {},
   "outputs": [
    {
     "data": {
      "text/html": [
       "<div>\n",
       "<style scoped>\n",
       "    .dataframe tbody tr th:only-of-type {\n",
       "        vertical-align: middle;\n",
       "    }\n",
       "\n",
       "    .dataframe tbody tr th {\n",
       "        vertical-align: top;\n",
       "    }\n",
       "\n",
       "    .dataframe thead th {\n",
       "        text-align: right;\n",
       "    }\n",
       "</style>\n",
       "<table border=\"1\" class=\"dataframe\">\n",
       "  <thead>\n",
       "    <tr style=\"text-align: right;\">\n",
       "      <th></th>\n",
       "      <th>ad_id</th>\n",
       "      <th>ad_type</th>\n",
       "      <th>campaign_id</th>\n",
       "      <th>date</th>\n",
       "      <th>spend</th>\n",
       "      <th>actions</th>\n",
       "    </tr>\n",
       "  </thead>\n",
       "  <tbody>\n",
       "    <tr>\n",
       "      <th>1</th>\n",
       "      <td>461b37a2-a3a4-4a22-b4b9-a79df7257379</td>\n",
       "      <td>video</td>\n",
       "      <td>375138e8-6e89-483f-a607-f62340c5c49d</td>\n",
       "      <td>2018-01-02</td>\n",
       "      <td>946</td>\n",
       "      <td>[{\"B\": 79, \"action\": \"clicks\"}, {\"H\": 3, \"acti...</td>\n",
       "    </tr>\n",
       "    <tr>\n",
       "      <th>9</th>\n",
       "      <td>203ec8f7-1bcf-4fe1-9288-14a7fd524ce4</td>\n",
       "      <td>video</td>\n",
       "      <td>375138e8-6e89-483f-a607-f62340c5c49d</td>\n",
       "      <td>2018-01-02</td>\n",
       "      <td>255</td>\n",
       "      <td>[{\"E\": 64, \"action\": \"clicks\"}, {\"J\": 80, \"act...</td>\n",
       "    </tr>\n",
       "    <tr>\n",
       "      <th>11</th>\n",
       "      <td>e0cbee1f-c25a-4422-beba-d01579b1f3e7</td>\n",
       "      <td>video</td>\n",
       "      <td>53c1c769-6793-4ccf-9eb4-d28cf71b4949</td>\n",
       "      <td>2018-01-02</td>\n",
       "      <td>603</td>\n",
       "      <td>[{\"H\": 91, \"action\": \"conversions\"}]</td>\n",
       "    </tr>\n",
       "    <tr>\n",
       "      <th>17</th>\n",
       "      <td>089036aa-1a50-4788-acf2-716eb3321b8f</td>\n",
       "      <td>video</td>\n",
       "      <td>53c1c769-6793-4ccf-9eb4-d28cf71b4949</td>\n",
       "      <td>2018-01-02</td>\n",
       "      <td>534</td>\n",
       "      <td>[{\"J\": 32, \"action\": \"views\"}]</td>\n",
       "    </tr>\n",
       "    <tr>\n",
       "      <th>21</th>\n",
       "      <td>f3a246a6-f560-4a1c-8589-62d48ec59693</td>\n",
       "      <td>video</td>\n",
       "      <td>53c1c769-6793-4ccf-9eb4-d28cf71b4949</td>\n",
       "      <td>2018-01-02</td>\n",
       "      <td>438</td>\n",
       "      <td>[{\"F\": 30, \"action\": \"noise\"}]</td>\n",
       "    </tr>\n",
       "    <tr>\n",
       "      <th>25</th>\n",
       "      <td>bd15d442-0a70-46d2-b79b-1af47fb4e8fe</td>\n",
       "      <td>video</td>\n",
       "      <td>53c1c769-6793-4ccf-9eb4-d28cf71b4949</td>\n",
       "      <td>2018-01-02</td>\n",
       "      <td>385</td>\n",
       "      <td>[{\"J\": 43, \"action\": \"conversions\"}]</td>\n",
       "    </tr>\n",
       "    <tr>\n",
       "      <th>27</th>\n",
       "      <td>1a398d7c-ee0e-4b4c-ab2f-95f632262bd8</td>\n",
       "      <td>video</td>\n",
       "      <td>dac1c482-32f8-4829-b6c3-dca20aeb347c</td>\n",
       "      <td>2018-01-02</td>\n",
       "      <td>344</td>\n",
       "      <td>[{\"J\": 77, \"action\": \"junk\"}, {\"K\": 31, \"actio...</td>\n",
       "    </tr>\n",
       "    <tr>\n",
       "      <th>28</th>\n",
       "      <td>1a398d7c-ee0e-4b4c-ab2f-95f632262bd8</td>\n",
       "      <td>video</td>\n",
       "      <td>dac1c482-32f8-4829-b6c3-dca20aeb347c</td>\n",
       "      <td>2018-01-03</td>\n",
       "      <td>649</td>\n",
       "      <td>[{\"A\": 28, \"action\": \"junk\"}, {\"A\": 78, \"actio...</td>\n",
       "    </tr>\n",
       "    <tr>\n",
       "      <th>29</th>\n",
       "      <td>1a398d7c-ee0e-4b4c-ab2f-95f632262bd8</td>\n",
       "      <td>video</td>\n",
       "      <td>dac1c482-32f8-4829-b6c3-dca20aeb347c</td>\n",
       "      <td>2018-01-04</td>\n",
       "      <td>835</td>\n",
       "      <td>[{\"D\": 7, \"action\": \"views\"}, {\"H\": 42, \"actio...</td>\n",
       "    </tr>\n",
       "    <tr>\n",
       "      <th>30</th>\n",
       "      <td>1a398d7c-ee0e-4b4c-ab2f-95f632262bd8</td>\n",
       "      <td>video</td>\n",
       "      <td>dac1c482-32f8-4829-b6c3-dca20aeb347c</td>\n",
       "      <td>2018-01-05</td>\n",
       "      <td>680</td>\n",
       "      <td>[{\"F\": 54, \"action\": \"conversions\"}, {\"H\": 66,...</td>\n",
       "    </tr>\n",
       "  </tbody>\n",
       "</table>\n",
       "</div>"
      ],
      "text/plain": [
       "                                   ad_id ad_type  \\\n",
       "1   461b37a2-a3a4-4a22-b4b9-a79df7257379   video   \n",
       "9   203ec8f7-1bcf-4fe1-9288-14a7fd524ce4   video   \n",
       "11  e0cbee1f-c25a-4422-beba-d01579b1f3e7   video   \n",
       "17  089036aa-1a50-4788-acf2-716eb3321b8f   video   \n",
       "21  f3a246a6-f560-4a1c-8589-62d48ec59693   video   \n",
       "25  bd15d442-0a70-46d2-b79b-1af47fb4e8fe   video   \n",
       "27  1a398d7c-ee0e-4b4c-ab2f-95f632262bd8   video   \n",
       "28  1a398d7c-ee0e-4b4c-ab2f-95f632262bd8   video   \n",
       "29  1a398d7c-ee0e-4b4c-ab2f-95f632262bd8   video   \n",
       "30  1a398d7c-ee0e-4b4c-ab2f-95f632262bd8   video   \n",
       "\n",
       "                             campaign_id        date  spend  \\\n",
       "1   375138e8-6e89-483f-a607-f62340c5c49d  2018-01-02    946   \n",
       "9   375138e8-6e89-483f-a607-f62340c5c49d  2018-01-02    255   \n",
       "11  53c1c769-6793-4ccf-9eb4-d28cf71b4949  2018-01-02    603   \n",
       "17  53c1c769-6793-4ccf-9eb4-d28cf71b4949  2018-01-02    534   \n",
       "21  53c1c769-6793-4ccf-9eb4-d28cf71b4949  2018-01-02    438   \n",
       "25  53c1c769-6793-4ccf-9eb4-d28cf71b4949  2018-01-02    385   \n",
       "27  dac1c482-32f8-4829-b6c3-dca20aeb347c  2018-01-02    344   \n",
       "28  dac1c482-32f8-4829-b6c3-dca20aeb347c  2018-01-03    649   \n",
       "29  dac1c482-32f8-4829-b6c3-dca20aeb347c  2018-01-04    835   \n",
       "30  dac1c482-32f8-4829-b6c3-dca20aeb347c  2018-01-05    680   \n",
       "\n",
       "                                              actions  \n",
       "1   [{\"B\": 79, \"action\": \"clicks\"}, {\"H\": 3, \"acti...  \n",
       "9   [{\"E\": 64, \"action\": \"clicks\"}, {\"J\": 80, \"act...  \n",
       "11               [{\"H\": 91, \"action\": \"conversions\"}]  \n",
       "17                     [{\"J\": 32, \"action\": \"views\"}]  \n",
       "21                     [{\"F\": 30, \"action\": \"noise\"}]  \n",
       "25               [{\"J\": 43, \"action\": \"conversions\"}]  \n",
       "27  [{\"J\": 77, \"action\": \"junk\"}, {\"K\": 31, \"actio...  \n",
       "28  [{\"A\": 28, \"action\": \"junk\"}, {\"A\": 78, \"actio...  \n",
       "29  [{\"D\": 7, \"action\": \"views\"}, {\"H\": 42, \"actio...  \n",
       "30  [{\"F\": 54, \"action\": \"conversions\"}, {\"H\": 66,...  "
      ]
     },
     "execution_count": 31,
     "metadata": {},
     "output_type": "execute_result"
    }
   ],
   "source": [
    "video_ads.head(10)"
   ]
  },
  {
   "cell_type": "code",
   "execution_count": 32,
   "metadata": {},
   "outputs": [],
   "source": [
    "def get_views(row):\n",
    "    global video_total_views\n",
    "    def helper(r):\n",
    "        total = 0\n",
    "        r = ast.literal_eval(r)\n",
    "        for actn in r:\n",
    "            if actn[\"action\"] == 'views':\n",
    "                for key in actn.keys():\n",
    "                    if key != 'action':\n",
    "                        total += actn[key]\n",
    "        return total\n",
    "    video_total_views += helper(row['actions'])"
   ]
  },
  {
   "cell_type": "code",
   "execution_count": 33,
   "metadata": {},
   "outputs": [],
   "source": [
    "video_total_cost = video_ads['spend'].sum(axis=0)"
   ]
  },
  {
   "cell_type": "code",
   "execution_count": 34,
   "metadata": {},
   "outputs": [
    {
     "data": {
      "text/plain": [
       "45500054"
      ]
     },
     "execution_count": 34,
     "metadata": {},
     "output_type": "execute_result"
    }
   ],
   "source": [
    "video_total_cost"
   ]
  },
  {
   "cell_type": "code",
   "execution_count": 35,
   "metadata": {},
   "outputs": [
    {
     "data": {
      "text/plain": [
       "1         None\n",
       "9         None\n",
       "11        None\n",
       "17        None\n",
       "21        None\n",
       "25        None\n",
       "27        None\n",
       "28        None\n",
       "29        None\n",
       "30        None\n",
       "32        None\n",
       "33        None\n",
       "34        None\n",
       "35        None\n",
       "62        None\n",
       "63        None\n",
       "64        None\n",
       "65        None\n",
       "67        None\n",
       "68        None\n",
       "69        None\n",
       "70        None\n",
       "72        None\n",
       "78        None\n",
       "87        None\n",
       "88        None\n",
       "89        None\n",
       "90        None\n",
       "92        None\n",
       "94        None\n",
       "          ... \n",
       "251087    None\n",
       "251088    None\n",
       "251090    None\n",
       "251091    None\n",
       "251092    None\n",
       "251093    None\n",
       "251095    None\n",
       "251096    None\n",
       "251097    None\n",
       "251108    None\n",
       "251109    None\n",
       "251110    None\n",
       "251111    None\n",
       "251113    None\n",
       "251114    None\n",
       "251115    None\n",
       "251144    None\n",
       "251145    None\n",
       "251146    None\n",
       "251147    None\n",
       "251149    None\n",
       "251150    None\n",
       "251151    None\n",
       "251153    None\n",
       "251154    None\n",
       "251155    None\n",
       "251156    None\n",
       "251158    None\n",
       "251159    None\n",
       "251160    None\n",
       "Length: 90949, dtype: object"
      ]
     },
     "execution_count": 35,
     "metadata": {},
     "output_type": "execute_result"
    }
   ],
   "source": [
    "video_ads.apply(get_views, axis=1)"
   ]
  },
  {
   "cell_type": "code",
   "execution_count": 36,
   "metadata": {},
   "outputs": [
    {
     "data": {
      "text/plain": [
       "4494747"
      ]
     },
     "execution_count": 36,
     "metadata": {},
     "output_type": "execute_result"
    }
   ],
   "source": [
    "video_total_views"
   ]
  },
  {
   "cell_type": "code",
   "execution_count": 37,
   "metadata": {},
   "outputs": [],
   "source": [
    "cost_per_view = video_total_cost / video_total_views"
   ]
  },
  {
   "cell_type": "code",
   "execution_count": 38,
   "metadata": {},
   "outputs": [],
   "source": [
    "cost_per_view = cost_per_view.round(2)"
   ]
  },
  {
   "cell_type": "code",
   "execution_count": 39,
   "metadata": {},
   "outputs": [
    {
     "data": {
      "text/plain": [
       "10.12"
      ]
     },
     "execution_count": 39,
     "metadata": {},
     "output_type": "execute_result"
    }
   ],
   "source": [
    "cost_per_view"
   ]
  },
  {
   "cell_type": "markdown",
   "metadata": {},
   "source": [
    "## What combination of state and hair color had the best (lowest) CPM?\n",
    "### Answer: IL_pink"
   ]
  },
  {
   "cell_type": "code",
   "execution_count": 40,
   "metadata": {},
   "outputs": [],
   "source": [
    "total_spend_list = []\n",
    "def sum_spending(row):\n",
    "    total_spend_list.append(row[1].sum(axis=0)['spend'])"
   ]
  },
  {
   "cell_type": "code",
   "execution_count": 41,
   "metadata": {},
   "outputs": [],
   "source": [
    "total_impressions_list = []\n",
    "def sum_impressions(row):\n",
    "    total_impressions_list.append(row[1].sum(axis=0)['impressions'])"
   ]
  },
  {
   "cell_type": "code",
   "execution_count": 42,
   "metadata": {},
   "outputs": [],
   "source": [
    "df3 = pd.DataFrame(df1.groupby('audience'))"
   ]
  },
  {
   "cell_type": "code",
   "execution_count": 43,
   "metadata": {},
   "outputs": [],
   "source": [
    "campaigns_by_spend = pd.DataFrame(spent_rows.groupby('campaign_id'))"
   ]
  },
  {
   "cell_type": "code",
   "execution_count": 44,
   "metadata": {},
   "outputs": [
    {
     "data": {
      "text/plain": [
       "0       None\n",
       "1       None\n",
       "2       None\n",
       "3       None\n",
       "4       None\n",
       "5       None\n",
       "6       None\n",
       "7       None\n",
       "8       None\n",
       "9       None\n",
       "10      None\n",
       "11      None\n",
       "12      None\n",
       "13      None\n",
       "14      None\n",
       "15      None\n",
       "16      None\n",
       "17      None\n",
       "18      None\n",
       "19      None\n",
       "20      None\n",
       "21      None\n",
       "22      None\n",
       "23      None\n",
       "24      None\n",
       "25      None\n",
       "26      None\n",
       "27      None\n",
       "28      None\n",
       "29      None\n",
       "        ... \n",
       "7442    None\n",
       "7443    None\n",
       "7444    None\n",
       "7445    None\n",
       "7446    None\n",
       "7447    None\n",
       "7448    None\n",
       "7449    None\n",
       "7450    None\n",
       "7451    None\n",
       "7452    None\n",
       "7453    None\n",
       "7454    None\n",
       "7455    None\n",
       "7456    None\n",
       "7457    None\n",
       "7458    None\n",
       "7459    None\n",
       "7460    None\n",
       "7461    None\n",
       "7462    None\n",
       "7463    None\n",
       "7464    None\n",
       "7465    None\n",
       "7466    None\n",
       "7467    None\n",
       "7468    None\n",
       "7469    None\n",
       "7470    None\n",
       "7471    None\n",
       "Length: 7472, dtype: object"
      ]
     },
     "execution_count": 44,
     "metadata": {},
     "output_type": "execute_result"
    }
   ],
   "source": [
    "campaigns_by_spend.apply(sum_spending, axis=1)"
   ]
  },
  {
   "cell_type": "code",
   "execution_count": 45,
   "metadata": {},
   "outputs": [],
   "source": [
    "campaigns_by_spend['total_spend'] = total_spend_list"
   ]
  },
  {
   "cell_type": "code",
   "execution_count": 46,
   "metadata": {},
   "outputs": [
    {
     "data": {
      "text/html": [
       "<div>\n",
       "<style scoped>\n",
       "    .dataframe tbody tr th:only-of-type {\n",
       "        vertical-align: middle;\n",
       "    }\n",
       "\n",
       "    .dataframe tbody tr th {\n",
       "        vertical-align: top;\n",
       "    }\n",
       "\n",
       "    .dataframe thead th {\n",
       "        text-align: right;\n",
       "    }\n",
       "</style>\n",
       "<table border=\"1\" class=\"dataframe\">\n",
       "  <thead>\n",
       "    <tr style=\"text-align: right;\">\n",
       "      <th></th>\n",
       "      <th>0</th>\n",
       "      <th>1</th>\n",
       "      <th>total_spend</th>\n",
       "    </tr>\n",
       "  </thead>\n",
       "  <tbody>\n",
       "    <tr>\n",
       "      <th>0</th>\n",
       "      <td>000299d3-976d-4c39-9846-01bbd744c240</td>\n",
       "      <td>ad_id a...</td>\n",
       "      <td>18822</td>\n",
       "    </tr>\n",
       "    <tr>\n",
       "      <th>1</th>\n",
       "      <td>0005b8bb-61d3-43ed-924a-54991756ba05</td>\n",
       "      <td>ad_id a...</td>\n",
       "      <td>2687</td>\n",
       "    </tr>\n",
       "    <tr>\n",
       "      <th>2</th>\n",
       "      <td>00063a5c-d31a-4f0e-977b-5619cd498ef5</td>\n",
       "      <td>ad_id a...</td>\n",
       "      <td>8055</td>\n",
       "    </tr>\n",
       "    <tr>\n",
       "      <th>3</th>\n",
       "      <td>000f4b94-d7b0-43af-ae8a-0d93649b689d</td>\n",
       "      <td>ad_id a...</td>\n",
       "      <td>7633</td>\n",
       "    </tr>\n",
       "    <tr>\n",
       "      <th>4</th>\n",
       "      <td>00134b2d-8ae6-4e87-961f-f5323be4c7a7</td>\n",
       "      <td>ad_id a...</td>\n",
       "      <td>9326</td>\n",
       "    </tr>\n",
       "  </tbody>\n",
       "</table>\n",
       "</div>"
      ],
      "text/plain": [
       "                                      0  \\\n",
       "0  000299d3-976d-4c39-9846-01bbd744c240   \n",
       "1  0005b8bb-61d3-43ed-924a-54991756ba05   \n",
       "2  00063a5c-d31a-4f0e-977b-5619cd498ef5   \n",
       "3  000f4b94-d7b0-43af-ae8a-0d93649b689d   \n",
       "4  00134b2d-8ae6-4e87-961f-f5323be4c7a7   \n",
       "\n",
       "                                                   1  total_spend  \n",
       "0                                         ad_id a...        18822  \n",
       "1                                         ad_id a...         2687  \n",
       "2                                         ad_id a...         8055  \n",
       "3                                         ad_id a...         7633  \n",
       "4                                         ad_id a...         9326  "
      ]
     },
     "execution_count": 46,
     "metadata": {},
     "output_type": "execute_result"
    }
   ],
   "source": [
    "campaigns_by_spend.head()"
   ]
  },
  {
   "cell_type": "code",
   "execution_count": 47,
   "metadata": {},
   "outputs": [
    {
     "data": {
      "text/plain": [
       "9326"
      ]
     },
     "execution_count": 47,
     "metadata": {},
     "output_type": "execute_result"
    }
   ],
   "source": [
    "int(campaigns_by_spend[campaigns_by_spend[0] == '00134b2d-8ae6-4e87-961f-f5323be4c7a7']['total_spend'])"
   ]
  },
  {
   "cell_type": "code",
   "execution_count": 48,
   "metadata": {},
   "outputs": [],
   "source": [
    "df3.apply(sum_impressions, axis=1)\n",
    "df3['total_impressions'] = total_impressions_list"
   ]
  },
  {
   "cell_type": "code",
   "execution_count": 49,
   "metadata": {},
   "outputs": [],
   "source": [
    "def campaign_sums(campaign_list):\n",
    "    total = 0\n",
    "    for c in campaign_list:\n",
    "        #pdb.set_trace()\n",
    "        values = campaigns_by_spend[campaigns_by_spend[0] == c]['total_spend'].values\n",
    "        total += 0 if len(values) == 0 else values[0]\n",
    "    return total"
   ]
  },
  {
   "cell_type": "code",
   "execution_count": 50,
   "metadata": {},
   "outputs": [],
   "source": [
    "regions_spends = []\n",
    "def get_region_sum(row):\n",
    "    regions_spends.append(campaign_sums(list(row[1]['campaign_id'])))"
   ]
  },
  {
   "cell_type": "code",
   "execution_count": 51,
   "metadata": {},
   "outputs": [
    {
     "data": {
      "text/plain": [
       "0      None\n",
       "1      None\n",
       "2      None\n",
       "3      None\n",
       "4      None\n",
       "5      None\n",
       "6      None\n",
       "7      None\n",
       "8      None\n",
       "9      None\n",
       "10     None\n",
       "11     None\n",
       "12     None\n",
       "13     None\n",
       "14     None\n",
       "15     None\n",
       "16     None\n",
       "17     None\n",
       "18     None\n",
       "19     None\n",
       "20     None\n",
       "21     None\n",
       "22     None\n",
       "23     None\n",
       "24     None\n",
       "25     None\n",
       "26     None\n",
       "27     None\n",
       "28     None\n",
       "29     None\n",
       "       ... \n",
       "429    None\n",
       "430    None\n",
       "431    None\n",
       "432    None\n",
       "433    None\n",
       "434    None\n",
       "435    None\n",
       "436    None\n",
       "437    None\n",
       "438    None\n",
       "439    None\n",
       "440    None\n",
       "441    None\n",
       "442    None\n",
       "443    None\n",
       "444    None\n",
       "445    None\n",
       "446    None\n",
       "447    None\n",
       "448    None\n",
       "449    None\n",
       "450    None\n",
       "451    None\n",
       "452    None\n",
       "453    None\n",
       "454    None\n",
       "455    None\n",
       "456    None\n",
       "457    None\n",
       "458    None\n",
       "Length: 459, dtype: object"
      ]
     },
     "execution_count": 51,
     "metadata": {},
     "output_type": "execute_result"
    }
   ],
   "source": [
    "df3.apply(get_region_sum, axis=1)"
   ]
  },
  {
   "cell_type": "code",
   "execution_count": 52,
   "metadata": {},
   "outputs": [],
   "source": [
    "df3['total_spending'] = regions_spends\n",
    "df3['CPM'] = 0"
   ]
  },
  {
   "cell_type": "code",
   "execution_count": 55,
   "metadata": {},
   "outputs": [],
   "source": [
    "def set_CPM(row):\n",
    "    row['CPM'] = (row['total_spending']  / row['total_impressions'])* 1000\n",
    "    return row"
   ]
  },
  {
   "cell_type": "code",
   "execution_count": 56,
   "metadata": {},
   "outputs": [],
   "source": [
    "df3 = df3.apply(set_CPM, axis=1)"
   ]
  },
  {
   "cell_type": "code",
   "execution_count": 58,
   "metadata": {},
   "outputs": [
    {
     "data": {
      "text/html": [
       "<div>\n",
       "<style scoped>\n",
       "    .dataframe tbody tr th:only-of-type {\n",
       "        vertical-align: middle;\n",
       "    }\n",
       "\n",
       "    .dataframe tbody tr th {\n",
       "        vertical-align: top;\n",
       "    }\n",
       "\n",
       "    .dataframe thead th {\n",
       "        text-align: right;\n",
       "    }\n",
       "</style>\n",
       "<table border=\"1\" class=\"dataframe\">\n",
       "  <thead>\n",
       "    <tr style=\"text-align: right;\">\n",
       "      <th></th>\n",
       "      <th>0</th>\n",
       "      <th>1</th>\n",
       "      <th>total_impressions</th>\n",
       "      <th>total_spending</th>\n",
       "      <th>CPM</th>\n",
       "    </tr>\n",
       "  </thead>\n",
       "  <tbody>\n",
       "    <tr>\n",
       "      <th>131</th>\n",
       "      <td>IL_pink</td>\n",
       "      <td>campaign_id aud...</td>\n",
       "      <td>8129</td>\n",
       "      <td>64499</td>\n",
       "      <td>7934.432279</td>\n",
       "    </tr>\n",
       "  </tbody>\n",
       "</table>\n",
       "</div>"
      ],
      "text/plain": [
       "           0                                                  1  \\\n",
       "131  IL_pink                                 campaign_id aud...   \n",
       "\n",
       "     total_impressions  total_spending          CPM  \n",
       "131               8129           64499  7934.432279  "
      ]
     },
     "execution_count": 58,
     "metadata": {},
     "output_type": "execute_result"
    }
   ],
   "source": [
    "df3[df3['CPM'] == df3.min(axis=0)['CPM']]"
   ]
  }
 ],
 "metadata": {
  "kernelspec": {
   "display_name": "Python 3",
   "language": "python",
   "name": "python3"
  },
  "language_info": {
   "codemirror_mode": {
    "name": "ipython",
    "version": 3
   },
   "file_extension": ".py",
   "mimetype": "text/x-python",
   "name": "python",
   "nbconvert_exporter": "python",
   "pygments_lexer": "ipython3",
   "version": "3.7.3"
  }
 },
 "nbformat": 4,
 "nbformat_minor": 2
}
